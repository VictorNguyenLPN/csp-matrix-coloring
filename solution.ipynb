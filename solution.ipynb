{
 "cells": [
  {
   "cell_type": "markdown",
   "id": "96023b20",
   "metadata": {},
   "source": [
    "# Constraint Satisfaction Problems with Propositional Logic\n",
    "\n",
    "## Requirement\n",
    "\n",
    "- Given a m x n matrix, each cell consists of a non-negative integer or it is blank.\n",
    "- Each cell has 9 \"**adjacent**\" neighbors, including itself and 8 cells around.\n",
    "- The player color cells by red or green colors so that the number of green cells which are \"**adjacent**\" to a cell matches the number inside.\n",
    "- There is no constraint for blank cells.\n",
    "\n",
    "    <img src=\"demo.png\" alt=\"alt text\" height=\"300\">\n",
    "\n",
    "- Using **proposition logic** and the **Glucose3** module of **PySat** to solve the given problem:\n",
    "  - Assign a propositional symbol to each cell (true -> green, false -> red).\n",
    "  - Enumerate cells to generate **CNF** clauses representing constraints.\n",
    "  - Discover the general rule to generate clauses and eliminate redundant clauses.\n",
    "  - Find a model satisfying all clauses using **Glucose3** of **PySat**\n",
    "\n",
    "- Implement a function to evaluate the result matrix and illustrate it on the console screen with colors.\n",
    "- Organize the program regarding to the OOP model, ensure source code is compact and reasonable."
   ]
  },
  {
   "cell_type": "markdown",
   "id": "a41a7cb1",
   "metadata": {},
   "source": [
    "## Solution"
   ]
  },
  {
   "cell_type": "code",
   "execution_count": 24,
   "id": "ceed374a",
   "metadata": {},
   "outputs": [],
   "source": [
    "from itertools import combinations\n",
    "from pysat.formula import CNF\n",
    "from pysat.solvers import Glucose3\n",
    "import matplotlib.pyplot as plt\n",
    "from matplotlib.colors import ListedColormap"
   ]
  },
  {
   "cell_type": "code",
   "execution_count": 25,
   "id": "73c1656f",
   "metadata": {},
   "outputs": [
    {
     "name": "stdout",
     "output_type": "stream",
     "text": [
      "\n"
     ]
    },
    {
     "data": {
      "image/png": "[encoded data removed]",
      "text/plain": [
       "<Figure size 640x480 with 1 Axes>"
      ]
     },
     "metadata": {},
     "output_type": "display_data"
    }
   ],
   "source": [
    "class Matrix:\n",
    "    def __init__(self, matrix):\n",
    "        self.matrix = matrix\n",
    "        self.rows = len(matrix)\n",
    "        self.cols = len(matrix[0])\n",
    "        self.formula = CNF()\n",
    "\n",
    "    def __get_adj(self, r, c):\n",
    "        adj = []\n",
    "        for i in range(max(0, r - 1), min(self.rows, r + 2)):\n",
    "            for j in range(max(0, c - 1), min(self.cols, c + 2)):\n",
    "                adj.append((i, j))\n",
    "        return adj\n",
    "\n",
    "    def __cell_to_var(self, r, c):\n",
    "        return r * self.cols + c + 1\n",
    "\n",
    "    def solve(self):\n",
    "        \"\"\"\n",
    "        Generates the CNF formula for the puzzle constraints and solves it.\n",
    "        \"\"\"\n",
    "        for r in range(self.rows):\n",
    "            for c in range(self.cols):\n",
    "                if self.matrix[r][c] is not None:\n",
    "                    k = self.matrix[r][c]\n",
    "                    adj_cells = self.__get_adj(r, c)\n",
    "                    adj_vars = [self.__cell_to_var(i, j) for i, j in adj_cells]\n",
    "\n",
    "                    for combo in combinations(adj_vars, k + 1):\n",
    "                        self.formula.append([-x for x in combo])\n",
    "\n",
    "                    for combo in combinations(adj_vars, len(adj_vars) - k + 1):\n",
    "                        self.formula.append(list(combo))\n",
    "\n",
    "        with Glucose3(bootstrap_with=self.formula) as solver:\n",
    "            if solver.solve():\n",
    "                model = solver.get_model()\n",
    "                result = [[0] * self.cols for _ in range(self.rows)]\n",
    "                for var in model:\n",
    "                    if var > 0:\n",
    "                        row = (var - 1) // self.cols\n",
    "                        col = (var - 1) % self.cols\n",
    "                        result[row][col] = 1\n",
    "                return result\n",
    "            else:\n",
    "                return None\n",
    "\n",
    "    def display(self, result):\n",
    "        \"\"\"\n",
    "        Displays the result with Matplotlib.\n",
    "        \"\"\"\n",
    "        if result is None:\n",
    "            print(\"No solution found.\")\n",
    "            return\n",
    "\n",
    "        cmap = ListedColormap(['#d9534f', '#5cb85c'])\n",
    "        fig, ax = plt.subplots()\n",
    "        ax.imshow(result, cmap=cmap)\n",
    "\n",
    "        for r in range(self.rows):\n",
    "            for c in range(self.cols):\n",
    "                if self.matrix[r][c] is not None:\n",
    "                    ax.text(c, r, self.matrix[r][c],\n",
    "                            ha=\"center\", va=\"center\", color=\"w\", fontsize=10)\n",
    "\n",
    "        print()\n",
    "        ax.set_xticks([])\n",
    "        ax.set_yticks([])\n",
    "        plt.title(\"Solution\")\n",
    "        plt.show()\n",
    "\n",
    "if __name__ == '__main__':\n",
    "    given_matrix = [\n",
    "        [None, 2,    3,    None, None, 0,    None, None, None, None],\n",
    "        [None, None, None, None, 3,    None, 2,    None, None, 6],\n",
    "        [None, None, 5,    None, 5,    3,    None, 5,    7,    4],\n",
    "        [None, 4,    None, 5,    None, 5,    None, 6,    None, 3],\n",
    "        [None, None, 4,    None, 5,    None, 6,    None, None, 3],\n",
    "        [None, None, None, 2,    None, 5,    None, None, None, None],\n",
    "        [4,    None, 1,    None, None, None, 1,    1,    None, None],\n",
    "        [4,    None, 1,    None, None, None, 1,    None, 4,    None],\n",
    "        [None, None, None, None, 6,    None, None, None, None, 4],\n",
    "        [None, 4,    4,    None, None, None, None, 4,    None, None],\n",
    "    ]\n",
    "\n",
    "    matrix = Matrix(given_matrix)\n",
    "    solution = matrix.solve()\n",
    "    matrix.display(solution)\n"
   ]
  }
 ],
 "metadata": {
  "kernelspec": {
   "display_name": ".venv",
   "language": "python",
   "name": "python3"
  },
  "language_info": {
   "codemirror_mode": {
    "name": "ipython",
    "version": 3
   },
   "file_extension": ".py",
   "mimetype": "text/x-python",
   "name": "python",
   "nbconvert_exporter": "python",
   "pygments_lexer": "ipython3",
   "version": "3.12.3"
  }
 },
 "nbformat": 4,
 "nbformat_minor": 5
}
